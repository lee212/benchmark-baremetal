{
 "cells": [
  {
   "cell_type": "markdown",
   "metadata": {},
   "source": [
    "# Performance and Cost Efficiency"
   ]
  },
  {
   "cell_type": "markdown",
   "metadata": {},
   "source": [
    "This article aims to provide cost analysis of running big data workloads on the cloud infrastructure along with CPU and storage performance. We began to analyze system limits and pricing information from each cloud provider and tried to indicate accurate performance metrics of different VM server types and storage options across multiple clouds."
   ]
  },
  {
   "cell_type": "code",
   "execution_count": 1,
   "metadata": {},
   "outputs": [],
   "source": [
    "import numpy as np\n",
    "import matplotlib.pyplot as plt\n",
    "import pandas as pd\n",
    "from IPython.core.display import display, HTML\n",
    "%matplotlib inline"
   ]
  },
  {
   "cell_type": "markdown",
   "metadata": {},
   "source": [
    "## Instance Type"
   ]
  },
  {
   "cell_type": "markdown",
   "metadata": {},
   "source": [
    "This test was run against AWS and OCI and two server types were selected which have similar number of virtual cores and memory sizes. BM.Standard2.52 is **45%** cheaper than AWS r5.24xlarge according to the pricing and less performance limits are applied."
   ]
  },
  {
   "cell_type": "code",
   "execution_count": 2,
   "metadata": {},
   "outputs": [
    {
     "data": {
      "text/html": [
       "<div>\n",
       "<table border=\"1\" class=\"dataframe\">\n",
       "  <thead>\n",
       "    <tr style=\"text-align: right;\">\n",
       "      <th></th>\n",
       "      <th>type</th>\n",
       "      <th>vcpus</th>\n",
       "      <th>mem</th>\n",
       "      <th>processor</th>\n",
       "      <th>pricing</th>\n",
       "    </tr>\n",
       "  </thead>\n",
       "  <tbody>\n",
       "    <tr>\n",
       "      <th>aws</th>\n",
       "      <td>r5.24xlarge</td>\n",
       "      <td>96</td>\n",
       "      <td>768GB</td>\n",
       "      <td>Intel Xeon Platinum 8000 Series</td>\n",
       "      <td>$6.048 per Hour</td>\n",
       "    </tr>\n",
       "    <tr>\n",
       "      <th>oci</th>\n",
       "      <td>bm.standard2.52</td>\n",
       "      <td>104</td>\n",
       "      <td>768GB</td>\n",
       "      <td>Intel Xeon Platinum 8167M</td>\n",
       "      <td>$3.3176 per Hour</td>\n",
       "    </tr>\n",
       "  </tbody>\n",
       "</table>\n",
       "</div>"
      ],
      "text/plain": [
       "                type  vcpus    mem                        processor  \\\n",
       "aws      r5.24xlarge     96  768GB  Intel Xeon Platinum 8000 Series   \n",
       "oci  bm.standard2.52    104  768GB        Intel Xeon Platinum 8167M   \n",
       "\n",
       "              pricing  \n",
       "aws   $6.048 per Hour  \n",
       "oci  $3.3176 per Hour  "
      ]
     },
     "execution_count": 2,
     "metadata": {},
     "output_type": "execute_result"
    }
   ],
   "source": [
    "# CPU Cost\n",
    "data = {\"aws\":\n",
    "        {\"type\":\"r5.24xlarge\", \n",
    "         \"vcpus\":96, \n",
    "         \"mem\":\"768GB\", \n",
    "         \"processor\":\"Intel Xeon Platinum 8000 Series\",\n",
    "        \"pricing\":\"$6.048 per Hour\"}, \n",
    "        \"oci\":\n",
    "        {\"type\":\"bm.standard2.52\", \n",
    "         \"vcpus\":104,\n",
    "         \"mem\":\"768GB\", \n",
    "         \"processor\":\" Intel Xeon Platinum 8167M\",\n",
    "        \"pricing\":\"$3.3176 per Hour\"}}\n",
    "pd.DataFrame.from_dict(data, orient='index')"
   ]
  },
  {
   "cell_type": "markdown",
   "metadata": {},
   "source": [
    "### CPU Test\n",
    "\n",
    "The result indicate similar CPU performance for those two instance types where **684** GFLOPS and **687** GFLOPS are observed by running Python Numpy matrix multiplication. Again BM.Standard2.52 has a cheaper price than r5.24xlarge and it costs only half for 100GFLOPS which is depicted in the following figure."
   ]
  },
  {
   "cell_type": "code",
   "execution_count": 2,
   "metadata": {
    "scrolled": false
   },
   "outputs": [
    {
     "data": {
      "image/png": "[encoded data removed]",
      "text/plain": [
       "<matplotlib.figure.Figure at 0x7f89d51022e8>"
      ]
     },
     "metadata": {},
     "output_type": "display_data"
    },
    {
     "data": {
      "text/html": [
       "<div>\n",
       "<table border=\"1\" class=\"dataframe\">\n",
       "  <thead>\n",
       "    <tr style=\"text-align: right;\">\n",
       "      <th></th>\n",
       "      <th>GFLOPS</th>\n",
       "      <th>Cost for 100GFLOPS (per hour)</th>\n",
       "    </tr>\n",
       "  </thead>\n",
       "  <tbody>\n",
       "    <tr>\n",
       "      <th>aws r5.24xlarge</th>\n",
       "      <td>684.750038</td>\n",
       "      <td>$0.88</td>\n",
       "    </tr>\n",
       "    <tr>\n",
       "      <th>oci bm.standard2.52</th>\n",
       "      <td>687.234219</td>\n",
       "      <td>$0.48</td>\n",
       "    </tr>\n",
       "  </tbody>\n",
       "</table>\n",
       "</div>"
      ],
      "text/plain": [
       "                         GFLOPS Cost for 100GFLOPS (per hour)\n",
       "aws r5.24xlarge      684.750038                         $0.88\n",
       "oci bm.standard2.52  687.234219                         $0.48"
      ]
     },
     "execution_count": 2,
     "metadata": {},
     "output_type": "execute_result"
    }
   ],
   "source": [
    "fig, ax1 = plt.subplots()\n",
    "\n",
    "aws_cost_for_100gflops = 6.048/684.7500377387827*100\n",
    "oci_cost_for_100gflops = 3.3176/687.2342186558482*100\n",
    "\n",
    "cdata = {\"aws r5.24xlarge\": \n",
    "       {\"GFLOPS\":684.7500377387827,\n",
    "       \"Cost for 100GFLOPS (per hour)\": \"$0.88\"},\n",
    "       \"oci bm.standard2.52\":\n",
    "       {\"GFLOPS\":687.2342186558482,\n",
    "       \"Cost for 100GFLOPS (per hour)\": \"${0:.2f}\".format(oci_cost_for_100gflops)}}\n",
    "\n",
    "ax1.bar([0,1], [aws_cost_for_100gflops, \n",
    "                oci_cost_for_100gflops], color='grey')\n",
    "\n",
    "ax1.set_ylabel('Cost ($) for 100GFLOPS')\n",
    "ax1.set_xticks([0,1])\n",
    "ax1.set_xticklabels([\"AWS r5.24xlarge\", \"OCI bm.standard2.52\"])\n",
    "\n",
    "ax2 = ax1.twinx()\n",
    "ax2.plot([0,1], [684.7500377387827, 687.2342186558482], 'rx')\n",
    "ax2.set_ylabel('Total GFLOPS', color='r')\n",
    "ax2.tick_params('y', colors='r')\n",
    "ax2.set_yticks(np.arange(630, 700, step=5))\n",
    "\n",
    "fig.tight_layout()\n",
    "plt.show()\n",
    "\n",
    "pd.DataFrame.from_dict(cdata, orient='index')"
   ]
  },
  {
   "cell_type": "markdown",
   "metadata": {},
   "source": [
    "### Block Storage Limit\n",
    "\n",
    "Storage performance is one of the indicators to find better execution time of workloads especially if they are I/O intensive. Multiple options are available to reduce costs of provisioning high performance storage and several limitations exist based on the type of storage and the type of instance attached. The following table indicates maximum IOPS and throughput for SSD storage options and Google persistent SSD disk and Azure Blob are included as well to show comparable storage choices among others. This will help plan scalable system with performance and to avoid exceeding performance limits where throttling will begin to occur.\n",
    "\n",
    "The overlooked value is per-instance IOPS and throughput because multiple volumes per instance are more practical ways of building distributed file systems rather than one volume to one instance configuration. In other words, a high IOPS volume attached to a low IOPS instance would not produce its maximum IOPS when throttling occurs at the instance IOPS limit. For example, OCI may generate 800,000 Max IOPS per instance when 32 volumes attached with 25,000 IOPS per volume limit. AWS, however, scales a few times until it reaches the limit of the instance (80,000 - r5.24xlarge) when the limit of the volume (16,000 IOPS - gp2) is provisioned.\n",
    "\n",
    "In terms of the pricing, OCI is 57.5% cheaper than AWS general purpose SSD (gp2) where \\$0.0425 and \\$0.1 pricing are suggested respectively."
   ]
  },
  {
   "cell_type": "code",
   "execution_count": 3,
   "metadata": {
    "scrolled": true
   },
   "outputs": [
    {
     "data": {
      "text/html": [
       "<div>\n",
       "<table border=\"1\" class=\"dataframe\">\n",
       "  <thead>\n",
       "    <tr style=\"text-align: right;\">\n",
       "      <th></th>\n",
       "      <th>media</th>\n",
       "      <th>cost</th>\n",
       "      <th>max throughput per volume</th>\n",
       "      <th>max throughput per instance</th>\n",
       "      <th>max IOPS per volume</th>\n",
       "      <th>max IOPS per instance</th>\n",
       "      <th>IOPS ratio to volume size (IOPS/GB)</th>\n",
       "      <th>Volume size</th>\n",
       "    </tr>\n",
       "  </thead>\n",
       "  <tbody>\n",
       "    <tr>\n",
       "      <th>Google</th>\n",
       "      <td>ssd</td>\n",
       "      <td>\\$0.17 per GB-month</td>\n",
       "      <td>write: 400mb/s,  read: 1200mb/s</td>\n",
       "      <td>write: 400mb/s, read: 1200mb/s</td>\n",
       "      <td>write: 30000 read: 60000</td>\n",
       "      <td>write: 30000 read: 60000</td>\n",
       "      <td>30:1</td>\n",
       "      <td>up to 60TiB</td>\n",
       "    </tr>\n",
       "    <tr>\n",
       "      <th>aws (gp2)</th>\n",
       "      <td>ssd</td>\n",
       "      <td>$0.10 per GB-month</td>\n",
       "      <td>250mib/s</td>\n",
       "      <td>1750mib/s</td>\n",
       "      <td>16000</td>\n",
       "      <td>80000</td>\n",
       "      <td>3:1</td>\n",
       "      <td>up to 16TiB</td>\n",
       "    </tr>\n",
       "    <tr>\n",
       "      <th>aws (io1)</th>\n",
       "      <td>ssd</td>\n",
       "      <td>\\$0.125 per GB-month, aditional $0.065 per IOPS</td>\n",
       "      <td>1000mib/s</td>\n",
       "      <td>1750mib/s</td>\n",
       "      <td>64000</td>\n",
       "      <td>80000</td>\n",
       "      <td>50:1</td>\n",
       "      <td>up to 16TiB</td>\n",
       "    </tr>\n",
       "    <tr>\n",
       "      <th>azure (p50)</th>\n",
       "      <td>ssd</td>\n",
       "      <td>\\$0.121 per GB-month, (4 TiB-$495.566/month)</td>\n",
       "      <td>250mib/s</td>\n",
       "      <td>2000mib/s</td>\n",
       "      <td>7500</td>\n",
       "      <td>80000</td>\n",
       "      <td>1.83:1</td>\n",
       "      <td>4TiB</td>\n",
       "    </tr>\n",
       "    <tr>\n",
       "      <th>azure (p80)</th>\n",
       "      <td>ssd</td>\n",
       "      <td>\\$0.055 per GB-month, (32 TiB-$1,802.057/month)</td>\n",
       "      <td>750mib/s</td>\n",
       "      <td>2000mib/s</td>\n",
       "      <td>20000</td>\n",
       "      <td>80000</td>\n",
       "      <td>0.61:1</td>\n",
       "      <td>32TiB</td>\n",
       "    </tr>\n",
       "    <tr>\n",
       "      <th>oci</th>\n",
       "      <td>ssd</td>\n",
       "      <td>$0.0425 per GB-month</td>\n",
       "      <td>320mib/s (336mb/s)</td>\n",
       "      <td>-</td>\n",
       "      <td>25000</td>\n",
       "      <td>400000</td>\n",
       "      <td>60:1</td>\n",
       "      <td>up to 32TB</td>\n",
       "    </tr>\n",
       "  </tbody>\n",
       "</table>\n",
       "</div>"
      ],
      "text/plain": [
       "            media                                             cost  \\\n",
       "Google        ssd                              \\$0.17 per GB-month   \n",
       "aws (gp2)     ssd                               $0.10 per GB-month   \n",
       "aws (io1)     ssd  \\$0.125 per GB-month, aditional $0.065 per IOPS   \n",
       "azure (p50)   ssd     \\$0.121 per GB-month, (4 TiB-$495.566/month)   \n",
       "azure (p80)   ssd  \\$0.055 per GB-month, (32 TiB-$1,802.057/month)   \n",
       "oci           ssd                             $0.0425 per GB-month   \n",
       "\n",
       "                   max throughput per volume     max throughput per instance  \\\n",
       "Google       write: 400mb/s,  read: 1200mb/s  write: 400mb/s, read: 1200mb/s   \n",
       "aws (gp2)                           250mib/s                       1750mib/s   \n",
       "aws (io1)                          1000mib/s                       1750mib/s   \n",
       "azure (p50)                         250mib/s                       2000mib/s   \n",
       "azure (p80)                         750mib/s                       2000mib/s   \n",
       "oci                       320mib/s (336mb/s)                               -   \n",
       "\n",
       "                  max IOPS per volume     max IOPS per instance  \\\n",
       "Google       write: 30000 read: 60000  write: 30000 read: 60000   \n",
       "aws (gp2)                       16000                     80000   \n",
       "aws (io1)                       64000                     80000   \n",
       "azure (p50)                      7500                     80000   \n",
       "azure (p80)                     20000                     80000   \n",
       "oci                             25000                    400000   \n",
       "\n",
       "            IOPS ratio to volume size (IOPS/GB)  Volume size  \n",
       "Google                                     30:1  up to 60TiB  \n",
       "aws (gp2)                                   3:1  up to 16TiB  \n",
       "aws (io1)                                  50:1  up to 16TiB  \n",
       "azure (p50)                              1.83:1         4TiB  \n",
       "azure (p80)                              0.61:1        32TiB  \n",
       "oci                                        60:1   up to 32TB  "
      ]
     },
     "execution_count": 3,
     "metadata": {},
     "output_type": "execute_result"
    }
   ],
   "source": [
    "bdata = {\"aws (gp2)\":{\"media\":\"ssd\",\n",
    "         \"cost\": \"$0.10 per GB-month\",\n",
    "         \"max throughput per volume\":\"250mib/s\",\n",
    "         \"max throughput per instance\": \"1750mib/s\",\n",
    "         \"max IOPS per volume\":\"16000\",\n",
    "         \"max IOPS per instance\": \"80000\",\n",
    "         \"IOPS ratio to volume size (IOPS/GB)\": \"3:1\",\n",
    "         \"Volume size\":\"up to 16TiB\"\n",
    "        },\n",
    "         \"aws (io1)\":{\"media\":\"ssd\",\n",
    "         \"cost\": \"\\$0.125 per GB-month, aditional $0.065 per IOPS\",\n",
    "         \"max throughput per volume\":\"1000mib/s\",\n",
    "         \"max throughput per instance\": \"1750mib/s\",\n",
    "         \"max IOPS per volume\":\"64000\",\n",
    "         \"max IOPS per instance\": \"80000\",\n",
    "         \"IOPS ratio to volume size (IOPS/GB)\": \"50:1\",\n",
    "        \"Volume size\":\"up to 16TiB\"\n",
    "        },\n",
    "          \"azure (p50)\":{\"media\":\"ssd\",\n",
    "         \"cost\": \"\\$0.121 per GB-month, (4 TiB-$495.566/month)\",\n",
    "         \"max throughput per volume\":\"250mib/s\",\n",
    "         \"max throughput per instance\": \"2000mib/s\",\n",
    "         \"max IOPS per volume\":\"7500\",\n",
    "         \"max IOPS per instance\": \"80000\",\n",
    "         \"IOPS ratio to volume size (IOPS/GB)\": \"1.83:1\",\n",
    "        \"Volume size\":\"4TiB\"\n",
    "        },\n",
    "         \n",
    "          \"azure (p80)\":{\"media\":\"ssd\",\n",
    "         \"cost\": \"\\$0.055 per GB-month, (32 TiB-$1,802.057/month)\",\n",
    "         \"max throughput per volume\":\"750mib/s\",\n",
    "         \"max throughput per instance\": \"2000mib/s\",\n",
    "         \"max IOPS per volume\":\"20000\",\n",
    "         \"max IOPS per instance\": \"80000\",\n",
    "         \"IOPS ratio to volume size (IOPS/GB)\": \"0.61:1\",\n",
    "        \"Volume size\":\"32TiB\"\n",
    "        },\n",
    "           \"Google\":{\"media\":\"ssd\",\n",
    "         \"cost\": \"\\$0.17 per GB-month\",\n",
    "         \"max throughput per volume\":\"write: 400mb/s,  read: 1200mb/s\",\n",
    "         \"max throughput per instance\": \"write: 400mb/s, read: 1200mb/s\",\n",
    "         \"max IOPS per volume\":\"write: 30000 read: 60000\",\n",
    "         \"max IOPS per instance\": \"write: 30000 read: 60000\",\n",
    "         \"IOPS ratio to volume size (IOPS/GB)\": \"30:1\",\n",
    "        \"Volume size\":\"up to 60TiB\"\n",
    "        },\n",
    "        \"oci\":\n",
    "        {\"media\":\"ssd\",\n",
    "         \"cost\":\"$0.0425 per GB-month\",\n",
    "         \"max throughput per volume\":\"320mib/s (336mb/s)\",\n",
    "         \"max throughput per instance\": \"-\",\n",
    "         \"max IOPS per volume\": \"25000\",\n",
    "         \"max IOPS per instance\": \"400000\",\n",
    "         \"IOPS ratio to volume size (IOPS/GB)\": \"60:1\",\n",
    "         \"Volume size\":\"up to 32TB\"         \n",
    "        }}\n",
    "dfbdata=pd.DataFrame.from_dict(bdata, orient='index')\n",
    "(dfbdata)"
   ]
  },
  {
   "cell_type": "markdown",
   "metadata": {},
   "source": [
    "Instance limit obtained from:\n",
    "- aws: r5.24xlarge\n",
    "- azure: Standard_M128m\n",
    "- oci: bm.standard2.52\n",
    "\n",
    "IOPS based on:\n",
    "- AWS: 16k block size\n",
    "- Azure: n/a\n",
    "- Google: 8k block size\n",
    "- OCI: 4k block size"
   ]
  },
  {
   "cell_type": "markdown",
   "metadata": {},
   "source": [
    "Data from:\n",
    "- Google pricing: https://cloud.google.com/compute/pricing#disk\n",
    "- Google disk performance: https://cloud.google.com/compute/docs/disks/performance\n",
    "- OCI Host Maximum: https://blogs.oracle.com/cloud-infrastructure/block-volume-performance-analysis\n",
    "- AWS: https://docs.aws.amazon.com/AWSEC2/latest/UserGuide/EBSVolumeTypes.html"
   ]
  },
  {
   "cell_type": "markdown",
   "metadata": {},
   "source": [
    "### IOPS in Detail\n",
    "\n",
    "IOPS numbers are different based on block size and the IOPS ratio to volume size is related to throughput. High IOPS ratio is better for cost efficiency, otherwise unnecessary volume size need to be provisioned. For example, if 16000 IOPS is offered with 3:1 ratio,  5334GB volume size is at least required to achieve the maximum IOPS."
   ]
  },
  {
   "cell_type": "code",
   "execution_count": 6,
   "metadata": {},
   "outputs": [
    {
     "data": {
      "text/html": [
       "<h3>IOPS Limit by block size</h3>"
      ],
      "text/plain": [
       "<IPython.core.display.HTML object>"
      ]
     },
     "metadata": {},
     "output_type": "display_data"
    },
    {
     "data": {
      "text/html": [
       "<div>\n",
       "<table border=\"1\" class=\"dataframe\">\n",
       "  <thead>\n",
       "    <tr style=\"text-align: right;\">\n",
       "      <th></th>\n",
       "      <th>4k</th>\n",
       "      <th>16k</th>\n",
       "      <th>256k</th>\n",
       "    </tr>\n",
       "  </thead>\n",
       "  <tbody>\n",
       "    <tr>\n",
       "      <th>aws (gp2)</th>\n",
       "      <td>16,000</td>\n",
       "      <td>16,000</td>\n",
       "      <td>1,000</td>\n",
       "    </tr>\n",
       "    <tr>\n",
       "      <th>oci</th>\n",
       "      <td>25,000</td>\n",
       "      <td>16,000</td>\n",
       "      <td>1,300</td>\n",
       "    </tr>\n",
       "  </tbody>\n",
       "</table>\n",
       "</div>"
      ],
      "text/plain": [
       "               4k     16k   256k\n",
       "aws (gp2)  16,000  16,000  1,000\n",
       "oci        25,000  16,000  1,300"
      ]
     },
     "metadata": {},
     "output_type": "display_data"
    },
    {
     "data": {
      "text/html": [
       "<h3>Volume size requirement for maximum IOPS</h3>"
      ],
      "text/plain": [
       "<IPython.core.display.HTML object>"
      ]
     },
     "metadata": {},
     "output_type": "display_data"
    },
    {
     "data": {
      "text/html": [
       "<div>\n",
       "<table border=\"1\" class=\"dataframe\">\n",
       "  <thead>\n",
       "    <tr style=\"text-align: right;\">\n",
       "      <th></th>\n",
       "      <th>4k</th>\n",
       "      <th>16k</th>\n",
       "      <th>256k</th>\n",
       "    </tr>\n",
       "  </thead>\n",
       "  <tbody>\n",
       "    <tr>\n",
       "      <th>aws (gp2)</th>\n",
       "      <td>5.3TB</td>\n",
       "      <td>5.3TB</td>\n",
       "      <td>334GB</td>\n",
       "    </tr>\n",
       "    <tr>\n",
       "      <th>oci</th>\n",
       "      <td>417GB</td>\n",
       "      <td>667GB</td>\n",
       "      <td>417GB</td>\n",
       "    </tr>\n",
       "  </tbody>\n",
       "</table>\n",
       "</div>"
      ],
      "text/plain": [
       "              4k    16k   256k\n",
       "aws (gp2)  5.3TB  5.3TB  334GB\n",
       "oci        417GB  667GB  417GB"
      ]
     },
     "metadata": {},
     "output_type": "display_data"
    }
   ],
   "source": [
    "bdata_iops = {\"aws (gp2)\" : { \"4k\": \"16,000\",\n",
    "                         \"16k\": \"16,000\",\n",
    "                         \"256k\": \"1,000\",\n",
    "                             },\n",
    "                \"oci\" :  { \"4k\": \"25,000\",\n",
    "                          \"16k\": \"16,000\",\n",
    "                          \"256k\": \"1,300\"\n",
    "                             },\n",
    "             }\n",
    "\n",
    "                     \n",
    "bdata_size_req = {\"aws (gp2)\" : { \"4k\": \"5.3TB\",\n",
    "                         \"16k\": \"5.3TB\",\n",
    "                         \"256k\": \"334GB\",\n",
    "                             },\n",
    "                \"oci\" :  { \"4k\": \"417GB\",\n",
    "                          \"16k\": \"667GB\",\n",
    "                          \"256k\": \"417GB\"\n",
    "                             },\n",
    "             }\n",
    "\n",
    "dfbdata_iops = pd.DataFrame.from_dict(bdata_iops, orient='index')\n",
    "dfbdata_size_req = pd.DataFrame.from_dict(bdata_size_req, orient='index')\n",
    "\n",
    "display(HTML(\"<h3>IOPS Limit by block size</h3>\"))\n",
    "display(dfbdata_iops)\n",
    "display(HTML(\"<h3>Volume size requirement for maximum IOPS</h3>\"))\n",
    "display(dfbdata_size_req)"
   ]
  },
  {
   "cell_type": "markdown",
   "metadata": {},
   "source": [
    "### OCI IOPS Ratio/Volume Size\n",
    "\n",
    "This is a note that OCI has a different (calculated) ratio each block size, where AWS provides same IOPS ratio for 4k, 16k, and 256k block sizes."
   ]
  },
  {
   "cell_type": "markdown",
   "metadata": {},
   "source": [
    "OCI has different IOPS ratio each block size i.e.\n",
    "- 60:1 (IOPS:GB) ratio @ 4k\n",
    "- 30:1 (IOPS:GB) ratio @ 16k\n",
    "- 2:1 (IOPS:GB) ratio @ 256k\n",
    "\n",
    "Also note that, 16k block size at OCI does not achieve 320mb/s throughput. Tests indicate 250mb/s."
   ]
  },
  {
   "cell_type": "markdown",
   "metadata": {},
   "source": [
    "### Instance Limit\n",
    "\n",
    "I ran fio I/O benchmark tool to measure instance limits for IOPS and throuput and the following table shows the results where almost no IOPS limit is observed for bm.standard2.52 with 32 volume attachements."
   ]
  },
  {
   "cell_type": "code",
   "execution_count": 7,
   "metadata": {},
   "outputs": [
    {
     "data": {
      "text/html": [
       "<div>\n",
       "<table border=\"1\" class=\"dataframe\">\n",
       "  <thead>\n",
       "    <tr style=\"text-align: right;\">\n",
       "      <th></th>\n",
       "      <th>Max Throughput per instance</th>\n",
       "      <th>Max IOPS per instance</th>\n",
       "      <th>Max Attachments</th>\n",
       "    </tr>\n",
       "  </thead>\n",
       "  <tbody>\n",
       "    <tr>\n",
       "      <th>aws i3 series</th>\n",
       "      <td>1,750MiB/s (7x)</td>\n",
       "      <td>65,000 (4x)</td>\n",
       "      <td>31</td>\n",
       "    </tr>\n",
       "    <tr>\n",
       "      <th>aws r5 series</th>\n",
       "      <td>1,750MiB/s (7x)</td>\n",
       "      <td>80,000 (5x)</td>\n",
       "      <td>28</td>\n",
       "    </tr>\n",
       "    <tr>\n",
       "      <th>oci bm x7 series</th>\n",
       "      <td>2,900MiB/s (9x)</td>\n",
       "      <td>730,000 (29x)</td>\n",
       "      <td>32</td>\n",
       "    </tr>\n",
       "  </tbody>\n",
       "</table>\n",
       "</div>"
      ],
      "text/plain": [
       "                 Max Throughput per instance Max IOPS per instance  \\\n",
       "aws i3 series                1,750MiB/s (7x)           65,000 (4x)   \n",
       "aws r5 series                1,750MiB/s (7x)           80,000 (5x)   \n",
       "oci bm x7 series             2,900MiB/s (9x)         730,000 (29x)   \n",
       "\n",
       "                  Max Attachments  \n",
       "aws i3 series                  31  \n",
       "aws r5 series                  28  \n",
       "oci bm x7 series               32  "
      ]
     },
     "execution_count": 7,
     "metadata": {},
     "output_type": "execute_result"
    }
   ],
   "source": [
    "bdata_instance = {\"aws i3 series\": { \"Max Throughput per instance\": \"1,750MiB/s (7x)\",\n",
    "                                    \"Max IOPS per instance\":\"65,000 (4x)\",\n",
    "                                   \"Max Attachments\" : 31 },\n",
    "                  \"aws r5 series\": {\"Max Throughput per instance\": \"1,750MiB/s (7x)\",\n",
    "                                    \"Max IOPS per instance\": \"80,000 (5x)\", \n",
    "                                   \"Max Attachments\" : 28 },\n",
    "                  \"oci bm x7 series\": {\"Max Throughput per instance\": \"2,900MiB/s (9x)\",\n",
    "                                      \"Max IOPS per instance\": \"730,000 (29x)\",\n",
    "                                      \"Max Attachments\" : 32 }\n",
    "                 }\n",
    "pd.DataFrame.from_dict(bdata_instance, orient='index')"
   ]
  },
  {
   "cell_type": "markdown",
   "metadata": {},
   "source": [
    "reference: \n",
    " - aws max attachments: https://docs.aws.amazon.com/AWSEC2/latest/UserGuide/volume_limits.html"
   ]
  },
  {
   "cell_type": "markdown",
   "metadata": {},
   "source": [
    "## Cost Comparison for Hadoop workloads\n",
    "\n",
    "According to the pricing above, OCI costs almost half for CPU and block storage. This test is to show actual cost for the five basic hadoop workloads.\n",
    "\n",
    "COST = CPU TIME + STORAGE TIME\n",
    "\n",
    "COST = (instance price \\* number of nodes / 3600 second (in an hour) \\* execution time in second) + STORAGE TIME\n",
    "\n",
    "COST = CPU TIME +  (volume price \\* provisioned volume size \\* number of volumes used / 2592000 second (in a month) \\* execution time in second)"
   ]
  },
  {
   "cell_type": "code",
   "execution_count": 9,
   "metadata": {
    "scrolled": false
   },
   "outputs": [
    {
     "data": {
      "image/png": "[encoded data removed]",
      "text/plain": [
       "<matplotlib.figure.Figure at 0x7f89d2434828>"
      ]
     },
     "metadata": {},
     "output_type": "display_data"
    },
    {
     "data": {
      "text/html": [
       "<div>\n",
       "<table border=\"1\" class=\"dataframe\">\n",
       "  <thead>\n",
       "    <tr style=\"text-align: right;\">\n",
       "      <th></th>\n",
       "      <th>aws</th>\n",
       "      <th>oci</th>\n",
       "    </tr>\n",
       "  </thead>\n",
       "  <tbody>\n",
       "    <tr>\n",
       "      <th>Wordcount\\n(1.6TB)</th>\n",
       "      <td>2917.403</td>\n",
       "      <td>2552.655</td>\n",
       "    </tr>\n",
       "    <tr>\n",
       "      <th>Pagerank\\n(50M pages)</th>\n",
       "      <td>427.872</td>\n",
       "      <td>498.668</td>\n",
       "    </tr>\n",
       "    <tr>\n",
       "      <th>K-means\\n(1.2B samples)</th>\n",
       "      <td>2733.394</td>\n",
       "      <td>2868.367</td>\n",
       "    </tr>\n",
       "    <tr>\n",
       "      <th>Terasort\\n(600GB)</th>\n",
       "      <td>517.907</td>\n",
       "      <td>643.867</td>\n",
       "    </tr>\n",
       "    <tr>\n",
       "      <th>DFSIO\\n(2TB Write)</th>\n",
       "      <td>1214.513</td>\n",
       "      <td>1380.916</td>\n",
       "    </tr>\n",
       "    <tr>\n",
       "      <th>DFSIO\\n(2TB Read)</th>\n",
       "      <td>479.424</td>\n",
       "      <td>446.619</td>\n",
       "    </tr>\n",
       "  </tbody>\n",
       "</table>\n",
       "</div>"
      ],
      "text/plain": [
       "                              aws       oci\n",
       "Wordcount\\n(1.6TB)       2917.403  2552.655\n",
       "Pagerank\\n(50M pages)     427.872   498.668\n",
       "K-means\\n(1.2B samples)  2733.394  2868.367\n",
       "Terasort\\n(600GB)         517.907   643.867\n",
       "DFSIO\\n(2TB Write)       1214.513  1380.916\n",
       "DFSIO\\n(2TB Read)         479.424   446.619"
      ]
     },
     "metadata": {},
     "output_type": "display_data"
    }
   ],
   "source": [
    "# wordcount, pagerank, kmeans, terasort, dfsio write, dfsio read\n",
    "hadoop_index = ('Wordcount\\n(1.6TB)', 'Pagerank\\n(50M pages)', 'K-means\\n(1.2B samples)', 'Terasort\\n(600GB)', 'DFSIO\\n(2TB Write)', \"DFSIO\\n(2TB Read)\")\n",
    "aws_bigdata_elapsed = (48 * 60 + 37.403, 7 * 60 + 7.872, 2733.394, 8 * 60 + 37.907, 1214.513, 479.424)\n",
    "oci_bigdata_elapsed = (42 * 60 + 32.655, 8 * 60 + 18.668, 2868.367, 10 * 60 + 43.867, 1380.916, 446.619)\n",
    "ind = np.arange(len(aws_bigdata_elapsed))\n",
    "\n",
    "fig, axs = plt.subplots(1, 1, figsize=(9, 3),sharex=False, sharey=True)\n",
    "fig.suptitle(\"Hadoop workload\")\n",
    "fig.subplots_adjust(top=0.85, hspace=0.5)\n",
    "fig.text(0.06, 0.5, 'Execution time in second', ha='center', va='center', rotation='vertical')\n",
    "\n",
    "width = 0.35\n",
    "idx=0\n",
    "axs.bar(ind - width/2, oci_bigdata_elapsed, width, label=\"OCI bm.standard2.52 - 3nodes (700GB x 6 blocks attached)\")\n",
    "axs.bar(ind + width/2, aws_bigdata_elapsed, width, label=\"AWS r5.24xlarge - 3nodes (2048gb x 7 blocks attached)\")\n",
    "axs.set_xticks(ind)\n",
    "axs.set_xticklabels(hadoop_index)\n",
    "axs.legend(loc='upper left', bbox_to_anchor=(1, 0.5))\n",
    "\n",
    "\n",
    "plt.show()\n",
    "\n",
    "df_hadoop = pd.DataFrame({'oci': oci_bigdata_elapsed,\n",
    "                         \"aws\": aws_bigdata_elapsed}, index=hadoop_index)\n",
    "display(df_hadoop)"
   ]
  },
  {
   "cell_type": "markdown",
   "metadata": {},
   "source": [
    "The execution time for both AWS and OCI shows similar results in the current system setup. Note that more blocks with larger volume size were attached to AWS for at least 40000 IOPS per instance.\n",
    "\n",
    "If the formula above is applied to the wordcount, AWS costs \\$14.7 for CPU TIME and \\$1.61 for STORAGE TIME whereas OCI costs \\$ 7.06 for CPU TIME and \\$ 0.176 for STORAGE TIME."
   ]
  },
  {
   "cell_type": "markdown",
   "metadata": {},
   "source": [
    "### Notes\n",
    "\n",
    "- AWS offers per-second billing"
   ]
  }
 ],
 "metadata": {
  "kernelspec": {
   "display_name": "Python 3",
   "language": "python",
   "name": "python3"
  },
  "language_info": {
   "codemirror_mode": {
    "name": "ipython",
    "version": 3
   },
   "file_extension": ".py",
   "mimetype": "text/x-python",
   "name": "python",
   "nbconvert_exporter": "python",
   "pygments_lexer": "ipython3",
   "version": "3.6.3"
  }
 },
 "nbformat": 4,
 "nbformat_minor": 2
}
