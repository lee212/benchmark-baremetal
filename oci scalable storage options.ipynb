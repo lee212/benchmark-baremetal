{
 "cells": [
  {
   "cell_type": "markdown",
   "metadata": {},
   "source": [
    "This notebooks aims to descriibe scalability in data storage using two approaches, scale-out and scale-up.\n",
    "\n",
    "* Scale-out means more volumes are provided by adding more instances.\n",
    "* Scale-up means more volumes are attached but same number of instances."
   ]
  },
  {
   "cell_type": "code",
   "execution_count": 1,
   "metadata": {},
   "outputs": [],
   "source": [
    "import numpy as np\n",
    "import matplotlib.pyplot as plt\n",
    "import pandas as pd\n",
    "from IPython.core.display import display, HTML\n",
    "%matplotlib inline"
   ]
  },
  {
   "cell_type": "markdown",
   "metadata": {},
   "source": [
    "### Experiment setup\n",
    "\n",
    "* vm: vm.denseio2.24\n",
    "* terasort: 600GB"
   ]
  },
  {
   "cell_type": "markdown",
   "metadata": {},
   "source": [
    "# Scale out\n",
    "\n",
    "More instances reduce total execution time but the efficiency (throughput) is not improved."
   ]
  },
  {
   "cell_type": "code",
   "execution_count": 2,
   "metadata": {},
   "outputs": [
    {
     "data": {
      "text/html": [
       "<div>\n",
       "<table border=\"1\" class=\"dataframe\">\n",
       "  <thead>\n",
       "    <tr style=\"text-align: right;\">\n",
       "      <th></th>\n",
       "      <th>teragen (second)</th>\n",
       "      <th>terasort (second)</th>\n",
       "      <th>Throughput (MB/s)</th>\n",
       "    </tr>\n",
       "  </thead>\n",
       "  <tbody>\n",
       "    <tr>\n",
       "      <th>12 local NVMe on 3 vms</th>\n",
       "      <td>160.052</td>\n",
       "      <td>987.929</td>\n",
       "      <td>50.610924</td>\n",
       "    </tr>\n",
       "    <tr>\n",
       "      <th>28 local NVMe on 7 vms</th>\n",
       "      <td>96.510</td>\n",
       "      <td>579.816</td>\n",
       "      <td>36.957537</td>\n",
       "    </tr>\n",
       "    <tr>\n",
       "      <th>44 local NVMe 11 vms</th>\n",
       "      <td>84.743</td>\n",
       "      <td>472.102</td>\n",
       "      <td>28.884359</td>\n",
       "    </tr>\n",
       "  </tbody>\n",
       "</table>\n",
       "</div>"
      ],
      "text/plain": [
       "                        teragen (second)  terasort (second)  Throughput (MB/s)\n",
       "12 local NVMe on 3 vms           160.052            987.929          50.610924\n",
       "28 local NVMe on 7 vms            96.510            579.816          36.957537\n",
       "44 local NVMe 11 vms              84.743            472.102          28.884359"
      ]
     },
     "execution_count": 2,
     "metadata": {},
     "output_type": "execute_result"
    }
   ],
   "source": [
    "data_o = {\"12 local NVMe on 3 vms\": { \"teragen (second)\": 160.052,\n",
    "                    \"terasort (second)\": 987.929,\n",
    "                                   \"Throughput (MB/s)\" : 600 / 987.929 / 12 * 1000},\n",
    "        \"28 local NVMe on 7 vms\": { \"teragen (second)\": 96.510,\n",
    "                    \"terasort (second)\": 579.816,\n",
    "                                  \"Throughput (MB/s)\" : 600 / 579.816 / 28 * 1000},\n",
    "       \"44 local NVMe 11 vms\": { \"teragen (second)\": 84.743, \n",
    "                    \"terasort (second)\": 472.102,\n",
    "                               \"Throughput (MB/s)\" : 600 / 472.102 / 44 * 1000}}\n",
    "df_o = pd.DataFrame.from_dict(data_o, orient='index')\n",
    "df_o"
   ]
  },
  {
   "cell_type": "markdown",
   "metadata": {},
   "source": [
    "* Throughput is per hdfs mount (e.g. /dataN), for terasort job"
   ]
  },
  {
   "cell_type": "markdown",
   "metadata": {},
   "source": [
    "# Scale up\n",
    "\n",
    "Scale-up has to be completed with higher server instance type i.e. bm.denseio2.52 but the current experiment, instead, uses block volumes to attach more volumes per instance. 667gb size is provisioned which provide maximum performance i.e. 25k IOPS and 320MB/s throughput."
   ]
  },
  {
   "cell_type": "code",
   "execution_count": 3,
   "metadata": {},
   "outputs": [
    {
     "data": {
      "text/html": [
       "<div>\n",
       "<table border=\"1\" class=\"dataframe\">\n",
       "  <thead>\n",
       "    <tr style=\"text-align: right;\">\n",
       "      <th></th>\n",
       "      <th>teragen (second)</th>\n",
       "      <th>terasort (second)</th>\n",
       "    </tr>\n",
       "  </thead>\n",
       "  <tbody>\n",
       "    <tr>\n",
       "      <th>12 local NVMe + 18x 667GB blocks on 3 vms</th>\n",
       "      <td>170.017</td>\n",
       "      <td>1025.434</td>\n",
       "    </tr>\n",
       "    <tr>\n",
       "      <th>28 local NVMe + 42x 667GB blocks on 7 vms</th>\n",
       "      <td>99.969</td>\n",
       "      <td>508.182</td>\n",
       "    </tr>\n",
       "    <tr>\n",
       "      <th>44 local NVMe + 66x 667GB blocks on 11 vms</th>\n",
       "      <td>NaN</td>\n",
       "      <td>NaN</td>\n",
       "    </tr>\n",
       "  </tbody>\n",
       "</table>\n",
       "</div>"
      ],
      "text/plain": [
       "                                            teragen (second)  \\\n",
       "12 local NVMe + 18x 667GB blocks on 3 vms            170.017   \n",
       "28 local NVMe + 42x 667GB blocks on 7 vms             99.969   \n",
       "44 local NVMe + 66x 667GB blocks on 11 vms               NaN   \n",
       "\n",
       "                                            terasort (second)  \n",
       "12 local NVMe + 18x 667GB blocks on 3 vms            1025.434  \n",
       "28 local NVMe + 42x 667GB blocks on 7 vms             508.182  \n",
       "44 local NVMe + 66x 667GB blocks on 11 vms                NaN  "
      ]
     },
     "execution_count": 3,
     "metadata": {},
     "output_type": "execute_result"
    }
   ],
   "source": [
    "data_u = {\"12 local NVMe + 18x 667GB blocks on 3 vms\": { \"teragen (second)\": 170.017,\n",
    "                    \"terasort (second)\": 1025.434 },\n",
    "        \"28 local NVMe + 42x 667GB blocks on 7 vms\": { \"teragen (second)\": 99.969,\n",
    "                    \"terasort (second)\": 508.182 },\n",
    "       \"44 local NVMe + 66x 667GB blocks on 11 vms\": { \"teragen (second)\": None ,\n",
    "                    \"terasort (second)\": None }}\n",
    "df_u = pd.DataFrame.from_dict(data_u, orient='index')\n",
    "df_u"
   ]
  },
  {
   "cell_type": "markdown",
   "metadata": {},
   "source": [
    "# Scale up vs Scale out\n",
    "\n",
    "A little improvement is observed with additional block storages."
   ]
  },
  {
   "cell_type": "code",
   "execution_count": 4,
   "metadata": {},
   "outputs": [
    {
     "data": {
      "text/html": [
       "<div>\n",
       "<table border=\"1\" class=\"dataframe\">\n",
       "  <thead>\n",
       "    <tr style=\"text-align: right;\">\n",
       "      <th></th>\n",
       "      <th>teragen (second)</th>\n",
       "      <th>terasort (second)</th>\n",
       "    </tr>\n",
       "  </thead>\n",
       "  <tbody>\n",
       "    <tr>\n",
       "      <th>12 local NVMe on 3 vms</th>\n",
       "      <td>160.052</td>\n",
       "      <td>987.929</td>\n",
       "    </tr>\n",
       "    <tr>\n",
       "      <th>28 local NVMe on 7 vms</th>\n",
       "      <td>96.510</td>\n",
       "      <td>579.816</td>\n",
       "    </tr>\n",
       "    <tr>\n",
       "      <th>44 local NVMe 11 vms</th>\n",
       "      <td>84.743</td>\n",
       "      <td>472.102</td>\n",
       "    </tr>\n",
       "    <tr>\n",
       "      <th>12 local NVMe + 18x 667GB blocks on 3 vms</th>\n",
       "      <td>170.017</td>\n",
       "      <td>1025.434</td>\n",
       "    </tr>\n",
       "    <tr>\n",
       "      <th>28 local NVMe + 42x 667GB blocks on 7 vms</th>\n",
       "      <td>99.969</td>\n",
       "      <td>508.182</td>\n",
       "    </tr>\n",
       "    <tr>\n",
       "      <th>44 local NVMe + 66x 667GB blocks on 11 vms</th>\n",
       "      <td>NaN</td>\n",
       "      <td>NaN</td>\n",
       "    </tr>\n",
       "  </tbody>\n",
       "</table>\n",
       "</div>"
      ],
      "text/plain": [
       "                                            teragen (second)  \\\n",
       "12 local NVMe on 3 vms                               160.052   \n",
       "28 local NVMe on 7 vms                                96.510   \n",
       "44 local NVMe 11 vms                                  84.743   \n",
       "12 local NVMe + 18x 667GB blocks on 3 vms            170.017   \n",
       "28 local NVMe + 42x 667GB blocks on 7 vms             99.969   \n",
       "44 local NVMe + 66x 667GB blocks on 11 vms               NaN   \n",
       "\n",
       "                                            terasort (second)  \n",
       "12 local NVMe on 3 vms                                987.929  \n",
       "28 local NVMe on 7 vms                                579.816  \n",
       "44 local NVMe 11 vms                                  472.102  \n",
       "12 local NVMe + 18x 667GB blocks on 3 vms            1025.434  \n",
       "28 local NVMe + 42x 667GB blocks on 7 vms             508.182  \n",
       "44 local NVMe + 66x 667GB blocks on 11 vms                NaN  "
      ]
     },
     "execution_count": 4,
     "metadata": {},
     "output_type": "execute_result"
    }
   ],
   "source": [
    "df = df_o.append(df_u)\n",
    "df = df.drop(\"Throughput (MB/s)\", 1)\n",
    "df"
   ]
  }
 ],
 "metadata": {
  "kernelspec": {
   "display_name": "Python 3",
   "language": "python",
   "name": "python3"
  },
  "language_info": {
   "codemirror_mode": {
    "name": "ipython",
    "version": 3
   },
   "file_extension": ".py",
   "mimetype": "text/x-python",
   "name": "python",
   "nbconvert_exporter": "python",
   "pygments_lexer": "ipython3",
   "version": "3.6.3"
  }
 },
 "nbformat": 4,
 "nbformat_minor": 2
}
